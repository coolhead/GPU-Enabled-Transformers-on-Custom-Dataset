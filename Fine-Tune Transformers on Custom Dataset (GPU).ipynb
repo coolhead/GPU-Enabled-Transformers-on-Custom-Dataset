{
 "cells": [
  {
   "cell_type": "code",
   "execution_count": 1,
   "id": "d9f07118-fd7b-47ca-9d4e-e66bc9942d6f",
   "metadata": {},
   "outputs": [
    {
     "name": "stdout",
     "output_type": "stream",
     "text": [
      "Transformers version: 4.51.3\n",
      "TrainingArguments args: ('self', 'output_dir', 'overwrite_output_dir', 'do_train', 'do_eval', 'do_predict', 'eval_strategy', 'prediction_loss_only', 'per_device_train_batch_size', 'per_device_eval_batch_size', 'per_gpu_train_batch_size', 'per_gpu_eval_batch_size', 'gradient_accumulation_steps', 'eval_accumulation_steps', 'eval_delay', 'torch_empty_cache_steps', 'learning_rate', 'weight_decay', 'adam_beta1', 'adam_beta2', 'adam_epsilon', 'max_grad_norm', 'num_train_epochs', 'max_steps', 'lr_scheduler_type', 'lr_scheduler_kwargs', 'warmup_ratio', 'warmup_steps', 'log_level', 'log_level_replica', 'log_on_each_node', 'logging_dir', 'logging_strategy', 'logging_first_step', 'logging_steps', 'logging_nan_inf_filter', 'save_strategy', 'save_steps', 'save_total_limit', 'save_safetensors', 'save_on_each_node', 'save_only_model', 'restore_callback_states_from_checkpoint', 'no_cuda', 'use_cpu', 'use_mps_device', 'seed', 'data_seed', 'jit_mode_eval', 'use_ipex', 'bf16', 'fp16', 'fp16_opt_level', 'half_precision_backend', 'bf16_full_eval', 'fp16_full_eval', 'tf32', 'local_rank', 'ddp_backend', 'tpu_num_cores', 'tpu_metrics_debug', 'debug', 'dataloader_drop_last', 'eval_steps', 'dataloader_num_workers', 'dataloader_prefetch_factor', 'past_index', 'run_name', 'disable_tqdm', 'remove_unused_columns', 'label_names', 'load_best_model_at_end', 'metric_for_best_model', 'greater_is_better', 'ignore_data_skip', 'fsdp', 'fsdp_min_num_params', 'fsdp_config', 'tp_size', 'fsdp_transformer_layer_cls_to_wrap', 'accelerator_config', 'deepspeed', 'label_smoothing_factor', 'optim', 'optim_args', 'adafactor', 'group_by_length', 'length_column_name', 'report_to', 'ddp_find_unused_parameters', 'ddp_bucket_cap_mb', 'ddp_broadcast_buffers', 'dataloader_pin_memory', 'dataloader_persistent_workers', 'skip_memory_metrics', 'use_legacy_prediction_loop', 'push_to_hub', 'resume_from_checkpoint', 'hub_model_id', 'hub_strategy', 'hub_token', 'hub_private_repo', 'hub_always_push', 'gradient_checkpointing', 'gradient_checkpointing_kwargs', 'include_inputs_for_metrics', 'include_for_metrics', 'eval_do_concat_batches', 'fp16_backend', 'push_to_hub_model_id', 'push_to_hub_organization', 'push_to_hub_token', 'mp_parameters', 'auto_find_batch_size', 'full_determinism', 'torchdynamo', 'ray_scope', 'ddp_timeout', 'torch_compile', 'torch_compile_backend', 'torch_compile_mode', 'include_tokens_per_second', 'include_num_input_tokens_seen', 'neftune_noise_alpha', 'optim_target_modules', 'batch_eval_metrics', 'eval_on_start', 'use_liger_kernel', 'eval_use_gather_object', 'average_tokens_across_devices')\n"
     ]
    }
   ],
   "source": [
    "import transformers\n",
    "from transformers import TrainingArguments\n",
    "print(\"Transformers version:\", transformers.__version__)\n",
    "print(\"TrainingArguments args:\", TrainingArguments.__init__.__code__.co_varnames)\n"
   ]
  },
  {
   "cell_type": "code",
   "execution_count": 7,
   "id": "a04cb530-20cb-4747-bcda-3bba45980903",
   "metadata": {},
   "outputs": [
    {
     "name": "stderr",
     "output_type": "stream",
     "text": [
      "Some weights of DistilBertForSequenceClassification were not initialized from the model checkpoint at distilbert-base-uncased and are newly initialized: ['classifier.bias', 'classifier.weight', 'pre_classifier.bias', 'pre_classifier.weight']\n",
      "You should probably TRAIN this model on a down-stream task to be able to use it for predictions and inference.\n"
     ]
    },
    {
     "data": {
      "text/html": [
       "\n",
       "    <div>\n",
       "      \n",
       "      <progress value='500' max='500' style='width:300px; height:20px; vertical-align: middle;'></progress>\n",
       "      [500/500 01:23, Epoch 2/2]\n",
       "    </div>\n",
       "    <table border=\"1\" class=\"dataframe\">\n",
       "  <thead>\n",
       " <tr style=\"text-align: left;\">\n",
       "      <th>Epoch</th>\n",
       "      <th>Training Loss</th>\n",
       "      <th>Validation Loss</th>\n",
       "    </tr>\n",
       "  </thead>\n",
       "  <tbody>\n",
       "    <tr>\n",
       "      <td>1</td>\n",
       "      <td>0.361700</td>\n",
       "      <td>0.360662</td>\n",
       "    </tr>\n",
       "    <tr>\n",
       "      <td>2</td>\n",
       "      <td>0.325700</td>\n",
       "      <td>0.473392</td>\n",
       "    </tr>\n",
       "  </tbody>\n",
       "</table><p>"
      ],
      "text/plain": [
       "<IPython.core.display.HTML object>"
      ]
     },
     "metadata": {},
     "output_type": "display_data"
    },
    {
     "data": {
      "text/html": [
       "\n",
       "    <div>\n",
       "      \n",
       "      <progress value='125' max='125' style='width:300px; height:20px; vertical-align: middle;'></progress>\n",
       "      [125/125 00:04]\n",
       "    </div>\n",
       "    "
      ],
      "text/plain": [
       "<IPython.core.display.HTML object>"
      ]
     },
     "metadata": {},
     "output_type": "display_data"
    },
    {
     "name": "stdout",
     "output_type": "stream",
     "text": [
      "\n",
      "Evaluation Results: {'eval_loss': 0.3606622517108917, 'eval_runtime': 4.3513, 'eval_samples_per_second': 229.816, 'eval_steps_per_second': 28.727, 'epoch': 2.0}\n"
     ]
    },
    {
     "name": "stderr",
     "output_type": "stream",
     "text": [
      "Device set to use cuda:0\n"
     ]
    },
    {
     "name": "stdout",
     "output_type": "stream",
     "text": [
      "\n",
      "✅ Using GPU: NVIDIA GeForce RTX 4070 Laptop GPU\n",
      "   CUDA Version: 12.1\n",
      "   cuDNN Enabled: True\n",
      "\n",
      "🔍 This movie was absolutely fantastic!\n",
      " → Sentiment: Positive (94.98%)\n",
      "\n",
      "🔍 Wow... this movie was so amazing, I fell asleep in 10 minutes.\n",
      " → Sentiment: Positive (91.53%)\n",
      " ⚠️  Potential sarcasm detected based on phrasing!\n",
      "\n",
      "🔍 Thanks a lot for ruining my day.\n",
      " → Sentiment: Positive (69.67%)\n",
      " ⚠️  Potential sarcasm detected based on phrasing!\n",
      "\n",
      "🔍 The visuals were breathtaking and the story was gripping.\n",
      " → Sentiment: Positive (94.83%)\n",
      "\n",
      "🔍 Of course, the plot twist was so obvious, not.\n",
      " → Sentiment: Negative (83.68%)\n",
      " ⚠️  Potential sarcasm detected based on phrasing!\n"
     ]
    }
   ],
   "source": [
    "# 🚀 Fine-Tune Transformers on Custom Dataset (GPU Enabled with Sarcasm Heuristic)\n",
    "\n",
    "import warnings\n",
    "warnings.filterwarnings(\"ignore\")\n",
    "\n",
    "# ✅ 1. Imports\n",
    "from transformers import (\n",
    "    AutoTokenizer,\n",
    "    AutoModelForSequenceClassification,\n",
    "    Trainer,\n",
    "    TrainingArguments,\n",
    "    DataCollatorWithPadding,\n",
    "    pipeline\n",
    ")\n",
    "from datasets import load_dataset\n",
    "import torch\n",
    "\n",
    "# ✅ 2. Load Dataset\n",
    "dataset = load_dataset(\"imdb\")\n",
    "dataset = dataset.shuffle(seed=42)\n",
    "\n",
    "# ✅ 3. Tokenizer & Tokenization\n",
    "tokenizer = AutoTokenizer.from_pretrained(\"distilbert-base-uncased\")\n",
    "\n",
    "def tokenize_function(example):\n",
    "    return tokenizer(example[\"text\"], truncation=True, padding=\"max_length\", max_length=256)\n",
    "\n",
    "tokenized_datasets = dataset.map(tokenize_function, batched=True)\n",
    "\n",
    "# ✅ 4. Model\n",
    "model = AutoModelForSequenceClassification.from_pretrained(\"distilbert-base-uncased\", num_labels=2).to(\"cuda\")\n",
    "\n",
    "# ✅ 5. Data Collator\n",
    "data_collator = DataCollatorWithPadding(tokenizer=tokenizer)\n",
    "\n",
    "# ✅ 6. Training Arguments\n",
    "training_args = TrainingArguments(\n",
    "    output_dir=\"./results\",\n",
    "    eval_strategy=\"epoch\",\n",
    "    save_strategy=\"epoch\",\n",
    "    per_device_train_batch_size=8,\n",
    "    per_device_eval_batch_size=8,\n",
    "    num_train_epochs=2,\n",
    "    logging_dir=\"./logs\",\n",
    "    logging_steps=10,\n",
    "    save_total_limit=2,\n",
    "    load_best_model_at_end=True,\n",
    "    report_to=\"none\"\n",
    ")\n",
    "\n",
    "# ✅ 7. Trainer\n",
    "trainer = Trainer(\n",
    "    model=model,\n",
    "    args=training_args,\n",
    "    train_dataset=tokenized_datasets[\"train\"].select(range(2000)),\n",
    "    eval_dataset=tokenized_datasets[\"test\"].select(range(1000)),\n",
    "    tokenizer=tokenizer,\n",
    "    data_collator=data_collator,\n",
    ")\n",
    "\n",
    "# ✅ 8. Train\n",
    "trainer.train()\n",
    "\n",
    "# ✅ 9. Evaluate\n",
    "results = trainer.evaluate()\n",
    "print(\"\\nEvaluation Results:\", results)\n",
    "\n",
    "# ✅ 10. Save Model\n",
    "trainer.save_model(\"./fine-tuned-distilbert-imdb\")\n",
    "tokenizer.save_pretrained(\"./fine-tuned-distilbert-imdb\")\n",
    "\n",
    "# ✅ 11. Inference Setup\n",
    "classifier = pipeline(\n",
    "    \"sentiment-analysis\",\n",
    "    model=\"./fine-tuned-distilbert-imdb\",\n",
    "    tokenizer=\"./fine-tuned-distilbert-imdb\",\n",
    "    device=0 if torch.cuda.is_available() else -1\n",
    ")\n",
    "\n",
    "# ✅ 12. Device Info\n",
    "if torch.cuda.is_available():\n",
    "    print(\"\\n✅ Using GPU:\", torch.cuda.get_device_name(0))\n",
    "    print(\"   CUDA Version:\", torch.version.cuda)\n",
    "    print(\"   cuDNN Enabled:\", torch.backends.cudnn.enabled)\n",
    "else:\n",
    "    print(\"\\n⚠️ Running on CPU. Consider enabling a GPU for better performance.\")\n",
    "\n",
    "# ✅ 13. Label Mapping\n",
    "label_map = {\"LABEL_0\": \"Negative\", \"LABEL_1\": \"Positive\"}\n",
    "\n",
    "# ✅ 14. Simple Sarcasm Heuristic\n",
    "def is_potentially_sarcastic(text):\n",
    "    sarcastic_cues = [\n",
    "        \"oh great\", \"wow\", \"just what i wanted\", \"how amazing\", \"i love it when\",\n",
    "        \"totally not\", \"what a surprise\", \"can’t wait\", \"of course\", \"brilliant idea\",\n",
    "        \"thanks a lot\", \"as expected\", \"another one\", \"sure thing\"\n",
    "    ]\n",
    "    text = text.lower()\n",
    "    return any(phrase in text for phrase in sarcastic_cues)\n",
    "\n",
    "# ✅ 15. Inference with Sarcasm Flag\n",
    "examples = [\n",
    "    \"This movie was absolutely fantastic!\",\n",
    "    \"Wow... this movie was so amazing, I fell asleep in 10 minutes.\",\n",
    "    \"Thanks a lot for ruining my day.\",\n",
    "    \"The visuals were breathtaking and the story was gripping.\",\n",
    "    \"Of course, the plot twist was so obvious, not.\"\n",
    "]\n",
    "\n",
    "for text in examples:\n",
    "    result = classifier(text)[0]\n",
    "    label = label_map.get(result[\"label\"], result[\"label\"])\n",
    "    sarcasm = is_potentially_sarcastic(text)\n",
    "    print(f\"\\n🔍 {text}\")\n",
    "    print(f\" → Sentiment: {label} ({result['score']:.2%})\")\n",
    "    if sarcasm:\n",
    "        print(\" ⚠️  Potential sarcasm detected based on phrasing!\")\n"
   ]
  },
  {
   "cell_type": "code",
   "execution_count": null,
   "id": "aa8b3256-0997-47ad-b4e3-74b810677177",
   "metadata": {},
   "outputs": [],
   "source": []
  }
 ],
 "metadata": {
  "kernelspec": {
   "display_name": "Python (tf_gpu)",
   "language": "python",
   "name": "tf_gpu"
  },
  "language_info": {
   "codemirror_mode": {
    "name": "ipython",
    "version": 3
   },
   "file_extension": ".py",
   "mimetype": "text/x-python",
   "name": "python",
   "nbconvert_exporter": "python",
   "pygments_lexer": "ipython3",
   "version": "3.9.21"
  }
 },
 "nbformat": 4,
 "nbformat_minor": 5
}
